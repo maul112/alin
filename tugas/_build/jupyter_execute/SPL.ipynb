{
 "cells": [
  {
   "cell_type": "markdown",
   "metadata": {},
   "source": [
    "## Sistem Persamaan Linear\n",
    "\n",
    "\n",
    "#### Pengertian\n",
    "\n",
    "Sistem Persamaan Linear adalah persamaan yang terdiri dari beberapa persamaan aljabar yang saling berhubungan dan didalamnya terdiri dari koefisien, variabel, dan konstanta. Variabel yang terdapat di persamaan linear memiliki pangkat 1.\n",
    "\n",
    "Contoh persamaan linear\n",
    "\n",
    "$Ax + By = C$\n",
    "\n",
    "Penjelasan :\n",
    "- $A$ dan $B$ merupakan angka yang merepresentasikan banyak variabel yang sejenis yang sering disebut koefisien.\n",
    "- $x$ dan $y$ merupakan variabel yang memiliki pangkat 1.\n",
    "- C adalah angka tanpa variabel yang disebut dengan konstanta.\n",
    "- Persamaan diatas terdiri dari 2 suku, suku terdiri dari koefisien dan variabel yang dipisahkan oleh operasi penjumlahan atau pengurangan.\n",
    "\n",
    "##### Representasi Persamaan Linear Terhadap Bidang Kartesius\n",
    "\n",
    "Representasi persamaan linear terhadap bidang kartesius yaitu tergantung dengan banyak variabelnya. Jika hanya memiliki satu variabel, maka persamaan tersebut hanya berdimensi satu atau titik saja dan titik tersebut merupakan solusi dari persamaan tersebut. Sementara jika variabelnya ada dua, maka representasi persamaan tersebut berdimensi dua atau berbentuk garis dan garis tersebut merupakan solusi dari persamaan linear dua variabel tersebut. Jika suatu persamaan memiliki tiga variabel, maka persamaan tersebut berdimensi 3 dan seterusnya.\n",
    "\n",
    "##### Bedanya persamaan linear dengan sistem persamaan linear\n",
    "\n",
    "Bedanya adalah kalau persamaan linear berarti hanya terdapat satu persamaan, sementara sistem persamaan linear berarti terdapat dua persamaan atau lebih yang saling berkaitan satu sama lain. Biasanya minimal banyaknya persamaan itu tergantung dengan jumlah variabel. Jika persamaan tersebut terdapat dua variabel, maka dibutuhkan dua oersanaab untuk menyelesaikan sistem persamaan tersebut.\n",
    "\n",
    "##### Cara umum menyelesaikan sebuah persamaan\n",
    "\n",
    "Ingat bahwa ada kata persamaan dengan simbol \"=\" artinya jika kita melakukan operasi di ruas kiri persamaan, maka kita lakukan juga di ruas kanan persamaan.\n",
    "Contoh persamaan :\n",
    "\n",
    "### Persamaan Linear Satu Variabel\n",
    "\n",
    "Persamaan linear satu variabel adalah persamaan yang terdiri dari hanya satu variabel dan variabel tersebut memiliki pangkat tertinggi satu.\n",
    "\n",
    "\n",
    "#### Cara penyelesaian\n",
    "\n",
    "$2x+5=10$\n",
    "\n",
    "Kita melakukan operasi (-5) di kedua ruas sehingga menjadi\n",
    "\n",
    "$2x+5(-5)=10(-5)$\n",
    "\n",
    "$2x=5$\n",
    "\n",
    "lakukan operasi (/2) dikedua ruas sehingga menjadi\n",
    "\n",
    "$\\frac{2x}{2}=\\frac{5}{2}$\n",
    "\n",
    "$x=\\frac{5}{2}$\n",
    "\n",
    "### Sistem Persamaan Linear Dua Variabel\n",
    "\n",
    "Sistem persamaan linear dua variabel adalah suatu persamaan yang terdiri dari dua variabel. Dalam sistem persamaan linear dua variabel terdiri dari dua persamaan linear dua variabel yang saling berkaitan. Jika hanya terdiri dari satu persamaan saja, mungkin itu termasuk bab persamaan garis.\n",
    "\n",
    "#### Cara penyelesaian\n",
    "\n",
    "Diberikan dua persamaan :\n",
    "\n",
    "\\begin{align*}\n",
    "2x+y&=7\\\\\n",
    "x+7y&=10\n",
    "\\end{align*}\n",
    "\n",
    "##### Metode penyelesaian\n",
    "\n",
    "##### 1. Eliminasi\n",
    "\n",
    "Penyelesaian dengan metode eliminasi adalah dengan memanipulasi salah satu dari persamaan yang telah diberikan sedemikian sehingga jika persamaan yang telah dimanipulasi tersebut dioperasikan dengan persamaan lainnya bisa mengeliminasi salah satu variabel.\n",
    "\n",
    "Persamaan kedua diatas dimanipulasi dengan mengalikannya dengan 2, jadi :\n",
    "\n",
    "$x+7y=10$ (kali kedua ruas dengan 2)\n",
    "\n",
    "$2x+14y=20$\n",
    "\n",
    "Setelah itu kita operasikan dengan persamaan pertama.\n",
    "\n",
    "$2x+y=7$\n",
    "\n",
    "$2x+14y=20$\n",
    "\n",
    "Karena koefisien dari variabel x pada kedua persamaan diatas sudah sama, maka kita eliminasi variabel x dengan cara mengurangi persamaan dua dengan persamaan 1\n",
    "\n",
    "$2x+14y-(2x+y)=20-7$\n",
    "\n",
    "$2x+14y-2x-y=13$\n",
    "\n",
    "$2x-2x+14y-y=13$\n",
    "\n",
    "$13y=13$ (bagi dengan 13 dikedua ruas)\n",
    "\n",
    "$y=1$\n",
    "\n",
    "##### 2. Substitusi\n",
    "\n",
    "Penyelesaian dengan metode substitusi adalah dengan mensubstitusi nilai variabel yang telah diketahui kedalam persamaan.\n",
    "\n",
    "Misal : \n",
    "\n",
    "$y=1$ (variabel y bernilai satu dan kita substitusikan ke persamaan pertama)\n",
    "\n",
    "$2x+y=7$\n",
    "\n",
    "$2x+(1)=7$ (kurangi kedua ruas dengan 1)\n",
    "\n",
    "$2x=6$ (bagi kedua ruas dengan 2)\n",
    "\n",
    "$x=3$\n",
    "\n",
    "Jadi, solusi dari kedua persamaan diatas adalah $x=3$ dan $y=1$\n",
    "\n",
    "Tetapi bisa juga kita manipulasi persamaan pertama sedemikian sehingga di salah satu ruas hanya tersisa satu variabel dan substitusikan ke persamaan lainnya\n",
    "\n",
    "Persamaan :\n",
    "\n",
    "$2x+y=7$\n",
    "\n",
    "$x+7y=10$\n",
    "\n",
    "Kurangi kedua ruas persamaan pertama dengan $2x$ menjadi :\n",
    "\n",
    "$y=7-2x$ (substitusikan nilai y ke persamaan 2)\n",
    "\n",
    "$x+7(7-2x)=10$\n",
    "\n",
    "$x+49-14x=10$\n",
    "\n",
    "$-13x+49=10$ (kurangi kedua ruas dengan 49)\n",
    "\n",
    "$-13x=-39$ (bagi kedua ruas dengan -13)\n",
    "\n",
    "$x=3$\n",
    "\n",
    "setelah itu substitusikan $x=3$ ke salah satu persamaan diatas sehingga kita akan mendapatkan $y=1$\n",
    "\n",
    "##### 3. Gabungan\n",
    "\n",
    "Penyelesaian dengan metode gabungan adalah dengan menggabungkan kedua metode eliminasi dan substitusi.\n",
    "\n",
    "### Sistem Persamaan Linear Tiga Variabel\n",
    "\n",
    "Sistem persamaan linear tiga variabel adalah suatu persamaan yang terdiri dari tiga variabel. Dalam sistem persamaan linear tiga variabel terdiri dari tiga persamaan linear tiga variabel yang saling berkaitan.\n",
    "\n",
    "##### Metode penyelesaian\n",
    "\n",
    "Metode penyelesaian sistem persamaan linear tiga variabel sama dengan penyelesaian sistem persamaan linear dua variabel, ada eliminasi, substitusi dan gabungan dari keduanya. Ada salah satu cara penyelesaian sistem persamaan linear tiga variabel lagi yaitu Metode Eliminasi Gauss.\n",
    "\n",
    "##### Eliminasi Gauss\n",
    "\n",
    "Metode Eliminasi Gauss adalah serangkaian algoritma atau langkah-langkah untuk menyelesaikan sistem persamaan linear. Metode ini memanipulasi persamaan tetapi tidak tidak mengubah nilai dari persamaan tersebut. Eliminasi Gauss bisa diproses dengan menggunakan code python dan bantuan numpy (salah satu library python) dengan cara menjadikan koefisien dan konstanta dari sistem persamaan linear sebagai elemen matriks dan memanipulasinya dengan beberapa operasi dalam metode eliminasi Gauss. Didalam numpy, matriks hasil konversi dari sistem persamaan linear disebut dengan array.\n",
    "\n",
    "#### Function operasi Eliminasi Gauss"
   ]
  },
  {
   "cell_type": "code",
   "execution_count": 1,
   "metadata": {},
   "outputs": [],
   "source": [
    "import numpy as np\n",
    "\n",
    "def RowSwap(A,k,l):\n",
    "# =============================================================================\n",
    "#     A is a NumPy array.  RowSwap will return duplicate array with rows\n",
    "#     k and l swapped.\n",
    "# =============================================================================\n",
    "    m = A.shape[0]  # m is number of rows in A\n",
    "    n = A.shape[1]  # n is number of columns in A\n",
    "\n",
    "    B = np.copy(A).astype('float64')\n",
    "\n",
    "    for j in range(n):\n",
    "        temp = B[k][j]\n",
    "        B[k][j] = B[l][j]\n",
    "        B[l][j] = temp\n",
    "\n",
    "    return B\n",
    "\n",
    "def RowScale(A,k,scale):\n",
    "# =============================================================================\n",
    "#     A is a NumPy array.  RowScale will return duplicate array with the\n",
    "#     entries of row k multiplied by scale.\n",
    "# =============================================================================\n",
    "    m = A.shape[0]  # m is number of rows in A\n",
    "    n = A.shape[1]  # n is number of columns in A\n",
    "\n",
    "    B = np.copy(A).astype('float64')\n",
    "\n",
    "    for j in range(n):\n",
    "        B[k][j] *= scale\n",
    "\n",
    "    return B\n",
    "\n",
    "def RowAdd(A,k,l,scale):\n",
    "# =============================================================================\n",
    "#     A is a numpy array.  RowAdd will return duplicate array with row\n",
    "#     l modifed.  The new values will be the old values of row l added to\n",
    "#     the values of row k, multiplied by scale.\n",
    "# =============================================================================\n",
    "    m = A.shape[0]  # m is number of rows in A\n",
    "    n = A.shape[1]  # n is number of columns in A\n",
    "\n",
    "    B = np.copy(A).astype('float64')\n",
    "\n",
    "    for j in range(n):\n",
    "        B[l][j] += B[k][j]*scale\n",
    "\n",
    "    return B"
   ]
  },
  {
   "cell_type": "markdown",
   "metadata": {},
   "source": [
    "##### Operasi Eliminasi Gauss\n",
    "\n",
    "##### Swap atau mengubah posisi persamaan"
   ]
  },
  {
   "cell_type": "code",
   "execution_count": 2,
   "metadata": {},
   "outputs": [
    {
     "ename": "NameError",
     "evalue": "name 'a' is not defined",
     "output_type": "error",
     "traceback": [
      "\u001b[0;31m---------------------------------------------------------------------------\u001b[0m",
      "\u001b[0;31mNameError\u001b[0m                                 Traceback (most recent call last)",
      "Cell \u001b[0;32mIn[2], line 1\u001b[0m\n\u001b[0;32m----> 1\u001b[0m RowSwap(\u001b[43ma\u001b[49m,b,c)\n",
      "\u001b[0;31mNameError\u001b[0m: name 'a' is not defined"
     ]
    }
   ],
   "source": [
    "RowSwap(a,b,c)"
   ]
  },
  {
   "cell_type": "markdown",
   "metadata": {},
   "source": [
    "- a merupakan nama variabel dari array yang akan dilakukan operasi swap\n",
    "- b merupakan tempat swap persamaan\n",
    "- c merupakan persamaan yang akan di swap\n",
    "\n",
    "Untuk urutan barisnya dihitung dari nomor urut 0 sampai seterusnya.\n",
    "\n",
    "##### Mengalikan salah satu persamaan dengan bilangan selain nol"
   ]
  },
  {
   "cell_type": "code",
   "execution_count": null,
   "metadata": {},
   "outputs": [],
   "source": [
    "RowScale(a,b,c)"
   ]
  },
  {
   "cell_type": "markdown",
   "metadata": {},
   "source": [
    "- a merupakan nama dari variabel array yang akan dilakukan operasi perkalian\n",
    "- b merupakan baris yang akan dikalikan\n",
    "- c merupakan angka yang akan dikalikan pada salah satu persamaan\n",
    "\n",
    "##### Penjumlahan salah satu persamaan dengan hasil perkalian suatu angka dengan persamaan lainnya"
   ]
  },
  {
   "cell_type": "code",
   "execution_count": null,
   "metadata": {},
   "outputs": [],
   "source": [
    "RowAdd(a,b,c,d)"
   ]
  },
  {
   "cell_type": "markdown",
   "metadata": {},
   "source": [
    "- a merupakan nama dari variabel array yang akan dilakukan operasi penjumlahan\n",
    "- b merupakan baris persamaan yang akan dikalikan dengan d (angka)\n",
    "- c merupakan persamaan yang akan dijumlahkan dengan hasil perkalian d (angka) dengan persamaan baris ke b\n",
    "- setelah melakukan operasi penjumlahan, persamaan baris ke b tidak akan berubah, yang barubah adalah persamaan ke c\n",
    "\n",
    "##### Cara penyelesaian sistem persamaan linear dengan metode Eliminasi Gauss\n",
    "\n",
    "Contoh persamaan :\n",
    "\n",
    "\\begin{align*}\n",
    "2x+2y+z&=9\\\\\n",
    "x+y+z&=6\\\\\n",
    "x+3y+2z&=13\n",
    "\\end{align*}\n",
    "\n",
    "Langkah pertama kita buat array dengan memasukkan koefisien dan konstanta sebagai elemen dari array."
   ]
  },
  {
   "cell_type": "code",
   "execution_count": 2,
   "metadata": {},
   "outputs": [
    {
     "name": "stdout",
     "output_type": "stream",
     "text": [
      "[[ 2  2  1  9]\n",
      " [ 1  1  1  6]\n",
      " [ 1  3  2 13]]\n"
     ]
    }
   ],
   "source": [
    "import numpy as np\n",
    "\n",
    "a = np.array([[2,2,1,9],[1,1,1,6],[1,3,2,13]])\n",
    "print(a)"
   ]
  },
  {
   "cell_type": "code",
   "execution_count": 3,
   "metadata": {},
   "outputs": [
    {
     "name": "stdout",
     "output_type": "stream",
     "text": [
      "[[ 0.  0. -1. -3.]\n",
      " [ 1.  1.  1.  6.]\n",
      " [ 1.  3.  2. 13.]]\n"
     ]
    }
   ],
   "source": [
    "b = RowAdd(a,1,0,-2)\n",
    "print(b)"
   ]
  },
  {
   "cell_type": "code",
   "execution_count": 4,
   "metadata": {},
   "outputs": [
    {
     "name": "stdout",
     "output_type": "stream",
     "text": [
      "[[ 0.  0. -1. -3.]\n",
      " [ 1.  1.  1.  6.]\n",
      " [ 0.  2.  1.  7.]]\n"
     ]
    }
   ],
   "source": [
    "c = RowAdd(b,1,2,-1)\n",
    "print(c)"
   ]
  },
  {
   "cell_type": "code",
   "execution_count": 5,
   "metadata": {},
   "outputs": [
    {
     "name": "stdout",
     "output_type": "stream",
     "text": [
      "[[ 1.  1.  1.  6.]\n",
      " [ 0.  0. -1. -3.]\n",
      " [ 0.  2.  1.  7.]]\n"
     ]
    }
   ],
   "source": [
    "d = RowSwap(c,0,1)\n",
    "print(d)"
   ]
  },
  {
   "cell_type": "code",
   "execution_count": 6,
   "metadata": {},
   "outputs": [
    {
     "name": "stdout",
     "output_type": "stream",
     "text": [
      "[[ 1.  1.  1.  6.]\n",
      " [ 0.  2.  1.  7.]\n",
      " [ 0.  0. -1. -3.]]\n"
     ]
    }
   ],
   "source": [
    "e = RowSwap(d,1,2)\n",
    "print(e)"
   ]
  },
  {
   "cell_type": "markdown",
   "metadata": {},
   "source": [
    "Elemen dari array sudah berbentuk seperti apa yang kita mau. Sekarang kita konversi menjadi sistem persamaan linear.\n",
    "\n",
    "\\begin{align*}\n",
    "x+y+z&=6\\\\\n",
    "2y+z&=7\\\\\n",
    "-z&=-3\n",
    "\\end{align*}\n",
    "\n",
    "jika persamaan ketiga dikali $-1$, maka akan menjadi :\n",
    "\n",
    "\\begin{align*}\n",
    "x+y+z&=6\\\\\n",
    "2y+z&=7\\\\\n",
    "z&=3\n",
    "\\end{align*}\n",
    "\n",
    "Dari persamaan diatas bisa kita ketahui nilai dari setiap variabel dengan melakukan substitusi balik\n",
    "\n",
    "$z=3$\n",
    "\n",
    "$2y+3=7$ (kurangi kedua ruas dengan $3$)\n",
    "\n",
    "$2y=4$ (bagi kedua ruas dengan $2$)\n",
    "\n",
    "$y=2$\n",
    "\n",
    "$x+5=6$ (kurangi kedua ruas dengan $5$)\n",
    "\n",
    "$x=1$\n",
    "\n",
    "Sehingga kita menemukan solusi dari sistem persamaan linear tiga variabel diatas $x=1$, $y=2$, dan $z=3$\n",
    "\n",
    "Metode Eliminasi Glauss ini juga bisa menyelesaikan sistem persamaan linear dengan jumlah variabel empat, lima, atau lebih.\n",
    "\n",
    "Dengan python dan library-nya, kita bisa menyelesaikan sistem persamaan linear dengan menggunakan Eliminasi Glauss. Python juga bisa menampilkan gambar dari sistem persamaan linear dan menemukan titik yang merupakan solusi dari sistem persamaan linear tersebut.\n",
    "\n",
    "##### Cara menggambar sistem persamaan linear dengan menggunakan Python\n",
    "\n",
    "Untuk menampilkan gambar sistem persamaan linear, kita menggunakan library python yaitu numpy dan matplotlib.\n",
    "\n",
    "Sebagai contoh kita gunakan persamaan diatas"
   ]
  },
  {
   "cell_type": "code",
   "execution_count": 7,
   "metadata": {},
   "outputs": [
    {
     "data": {
      "image/png": "[encoded data removed]",
      "text/plain": [
       "<Figure size 640x480 with 1 Axes>"
      ]
     },
     "metadata": {},
     "output_type": "display_data"
    }
   ],
   "source": [
    "import numpy as np\n",
    "import matplotlib.pyplot as plt\n",
    "from mpl_toolkits.mplot3d import Axes3D\n",
    "\n",
    "# Koefisien untuk masing-masing persamaan bidang\n",
    "a1, b1, c1, r1 = 2, 2, 1, 9\n",
    "a2, b2, c2, r2 = 1, 1, 1, 6\n",
    "a3, b3, c3, r3 = 1, 3, 2, 13\n",
    "\n",
    "# Buat data x, y\n",
    "x = np.linspace(-10, 10, 100)\n",
    "y = np.linspace(-10, 10, 100)\n",
    "\n",
    "# Buat grid x, y\n",
    "X, Y = np.meshgrid(x, y)\n",
    "\n",
    "# Hitung nilai z sesuai dengan persamaan bidang\n",
    "Z1 = (r1 - a1*X - b1*Y) / c1\n",
    "Z2 = (r2 - a2*X - b2*Y) / c2\n",
    "Z3 = (r3 - a3*X - b3*Y) / c3\n",
    "\n",
    "# Plot persamaan bidang dalam tiga dimensi\n",
    "fig = plt.figure()\n",
    "ax = fig.add_subplot(111, projection='3d')\n",
    "\n",
    "# Plot bidang\n",
    "ax.plot_surface(X, Y, Z1, alpha=0.5, rstride=100, cstride=100, color='r')\n",
    "ax.plot_surface(X, Y, Z2, alpha=0.5, rstride=100, cstride=100, color='g')\n",
    "ax.plot_surface(X, Y, Z3, alpha=0.5, rstride=100, cstride=100, color='b')\n",
    "\n",
    "# Titik perpotongan\n",
    "A = np.array([[a1, b1, c1], [a2, b2, c2], [a3, b3, c3]])\n",
    "B = np.array([r1, r2, r3])\n",
    "intersect = np.linalg.solve(A, B)\n",
    "ax.scatter(intersect[0], intersect[1], intersect[2], color='black', s=100, label='Titik Perpotongan')\n",
    "\n",
    "# Label sumbu\n",
    "ax.set_xlabel('X')\n",
    "ax.set_ylabel('Y')\n",
    "ax.set_zlabel('Z')\n",
    "\n",
    "# Judul\n",
    "ax.set_title('Tiga Grafik Persamaan Linear Tiga Variabel')\n",
    "\n",
    "# Tampilkan legenda\n",
    "ax.legend()\n",
    "\n",
    "# Tampilkan plot\n",
    "plt.show()"
   ]
  },
  {
   "cell_type": "code",
   "execution_count": 8,
   "metadata": {},
   "outputs": [
    {
     "name": "stdout",
     "output_type": "stream",
     "text": [
      "[1. 2. 3.]\n"
     ]
    }
   ],
   "source": [
    "print(intersect)"
   ]
  },
  {
   "cell_type": "markdown",
   "metadata": {},
   "source": [
    "Diatas merupakan gambar dari persamaan diatas beserta solusinya."
   ]
  },
  {
   "cell_type": "markdown",
   "metadata": {},
   "source": [
    "#### Referensi\n",
    "\n",
    "- https://supermatematika.com/sistem-persamaan-linear-4-variabel\n",
    "- https://nurtakbirani.wordpress.com/perbedaan-pldv-dan-spldv/\n",
    "- https://www.quora.com/What-is-the-difference-between-a-system-of-linear-equations-and-a-linear-equation\n",
    "- https://www.sampoernaacademy.sch.id/id/persamaan-linear/\n",
    "- https://repository.uin-suska.ac.id/7584/1/2012_2012163MT.pdf\n",
    "- https://id.wikipedia.org/wiki/Eliminasi_Gauss#:~:text=Dalam%20matematika%2C%20eliminasi%20Gauss%20adalah,koefisien%20dari%20sistem%20persamaan%20tersebut.\n",
    "- PPT Pertemuan 2"
   ]
  }
 ],
 "metadata": {
  "kernelspec": {
   "display_name": "Python 3 (ipykernel)",
   "language": "python",
   "name": "python3"
  },
  "language_info": {
   "codemirror_mode": {
    "name": "ipython",
    "version": 3
   },
   "file_extension": ".py",
   "mimetype": "text/x-python",
   "name": "python",
   "nbconvert_exporter": "python",
   "pygments_lexer": "ipython3",
   "version": "3.10.13"
  }
 },
 "nbformat": 4,
 "nbformat_minor": 2
}