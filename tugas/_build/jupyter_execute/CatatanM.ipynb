{
 "cells": [
  {
   "cell_type": "markdown",
   "metadata": {},
   "source": [
    "## Aljabar Matrix\n",
    "\n",
    "### Pengertian Matriks\n",
    "\n",
    "- Matrix adalah larik bilangan dua dimensi. Komputas matriks menggunakan numoy, dengan menggunakan array\n",
    "$$\n",
    "A =\\begin{bmatrix}\n",
    "1 & 3\\\\\n",
    "2 & 1\n",
    "\\end{bmatrix}\n",
    "$$\n",
    "\n",
    "- Dimensi atau ukuran matriks ditentukan dengan jumlah baris dan kolom\n",
    "- Jumlah baris biasanya dicantumkan terlebih dahulu\n",
    "\n",
    "    Maksudnya : \n",
    "\n",
    "    $A_{ij}$\n",
    "\n",
    "    Matrik diatas mempunyai sebanyak i baris dan sebanyak j kolom\n",
    "\n",
    "- Matriks yang hanya memiliki 1 kolom, seperti D, bisa disebut vektor\n",
    "\n",
    "    Contoh :\n",
    "$$\n",
    "D = \\begin{bmatrix}\n",
    "1\\\\\n",
    "2\n",
    "\\end{bmatrix}\n",
    "$$\n",
    "\n",
    "- Menggunakan huruf besar untuk memberi nama matriks\n",
    "- Elemen matriks dinyatakan dengan huruf kecil dengan subskrip untuk menunjukkan posisi entri dalam matriks.\n",
    "    - Contoh $b_{12}$ mengacu pada baris pertama dan kolom kedua matriks B.\n",
    "    - Secara umum, kita mungkin menggunakan variabel di subskrip, seperti $a_{ij}$ artinya elemen dari a baris i dan kolom j.\n",
    "\n",
    "\n",
    "### Implementasi dengan numpy\n",
    "\n",
    "Cara membuat matriks dengan numpy\n"
   ]
  },
  {
   "cell_type": "code",
   "execution_count": 1,
   "metadata": {},
   "outputs": [
    {
     "name": "stdout",
     "output_type": "stream",
     "text": [
      "A = \n",
      "[[1 3]\n",
      " [2 1]]\n",
      "B = \n",
      "[[ 3  0  4]\n",
      " [-1 -2  1]]\n",
      "C = \n",
      "[[-2  1]\n",
      " [ 4  1]]\n",
      "D = \n",
      "[[2]\n",
      " [6]]\n"
     ]
    }
   ],
   "source": [
    "import numpy as np\n",
    "A = np.array([[1,3],[2,1]])\n",
    "B = np.array([[3,0,4],[-1,-2,1]])\n",
    "C = np.array([[-2,1],[4,1]])\n",
    "D = np.array([[2],[6]])\n",
    "print(f\"A = \\n{A}\")\n",
    "print(f\"B = \\n{B}\")\n",
    "print(f\"C = \\n{C}\")\n",
    "print(f\"D = \\n{D}\")"
   ]
  },
  {
   "cell_type": "markdown",
   "metadata": {},
   "source": [
    "#### Cara membuat random matriks dengan numpy"
   ]
  },
  {
   "cell_type": "code",
   "execution_count": 2,
   "metadata": {},
   "outputs": [
    {
     "name": "stdout",
     "output_type": "stream",
     "text": [
      "[[-2  1]\n",
      " [ 4  1]]\n"
     ]
    }
   ],
   "source": [
    "E = np.random.randint(10,size=(3,3))\n",
    "print(C)"
   ]
  },
  {
   "cell_type": "markdown",
   "metadata": {},
   "source": [
    "- Setiap di print, maka matriks E akan berubah-ubah\n",
    "\n",
    "Perlu diingat sebelum menjumlahkan, mengurangkan, atau mmengalikan kedua buah matriks, ukuran dari kedua matriks tersebut harus sama.\n",
    "\n",
    "Notasi ukuran matriks sebagai berikut :\n",
    "\n",
    "$A_{ij}$ artinya matriks $A$ mempunyai i baris dan j kolom\n",
    "\n",
    "##### Cara cek ukuran matriks menggunakan python dan numpy\n",
    "\n",
    "\n",
    "- Python"
   ]
  },
  {
   "cell_type": "code",
   "execution_count": 3,
   "metadata": {},
   "outputs": [
    {
     "name": "stdout",
     "output_type": "stream",
     "text": [
      "Ukuran matriks A adalah = (2, 2)\n"
     ]
    }
   ],
   "source": [
    "panjang_matriks = len(A),len(A[0])\n",
    "print(f\"Ukuran matriks A adalah = {panjang_matriks}\")"
   ]
  },
  {
   "cell_type": "markdown",
   "metadata": {},
   "source": [
    "- Numpy"
   ]
  },
  {
   "cell_type": "code",
   "execution_count": 4,
   "metadata": {},
   "outputs": [
    {
     "name": "stdout",
     "output_type": "stream",
     "text": [
      "Ukuran matriks A adalah = (2, 2)\n"
     ]
    }
   ],
   "source": [
    "print(f\"Ukuran matriks A adalah = {A.shape}\")"
   ]
  },
  {
   "cell_type": "markdown",
   "metadata": {},
   "source": [
    "Berarti matriks A diatas mempunyai 2 baris dan 2 kolom.\n",
    "\n",
    "#### Cara menjumlahkan dan mengurangkan dua buah matriks dengan python dan numpy\n",
    "\n",
    "Penjumlahan dua matriks adalah dengan menjumlahkan tiap elemen dari kedua matriks tersebut sesuai dengan posisinya.\n",
    "\n",
    "Misal $A_{12}$ dijumlahkan dengan $C_{12}$, artinya elemen matriks $A$ pada baris 1 kolom 2 dijumlahkan dengan matriks $C$ dengan posisi elemen yang sama yaitu baris 1 kolom 2 dan seterusnya. \n",
    "\n",
    "Pengoperasian penjumlahan dan pengurangan bisa di ilustrasikan dengan notasi sebagai berikut : \n",
    "\n",
    "$(A + C)_{ij} = a_{ij} + c_{ij}$\n",
    "\n",
    "Misal $A + C $ : \n",
    "\n",
    "$$\n",
    "A = \\begin{bmatrix}\n",
    "1 & 3\\\\\n",
    "2 & 1\n",
    "\\end{bmatrix}\n",
    "$$\n",
    "$$\n",
    "C = \\begin{bmatrix}\n",
    "-2 & 1\\\\\n",
    "4 & 1\n",
    "\\end{bmatrix}\n",
    "$$\n",
    "$$\n",
    "A + C = \\begin{bmatrix}\n",
    "1+(-2) & 3+1\\\\\n",
    "2+4 & 1+1\n",
    "\\end{bmatrix}\n",
    "$$\n",
    "\n",
    "Menjumlahkan matriks dengan python"
   ]
  },
  {
   "cell_type": "code",
   "execution_count": 5,
   "metadata": {},
   "outputs": [
    {
     "name": "stdout",
     "output_type": "stream",
     "text": [
      "1 + -2\n",
      "3 + 1\n",
      "2 + 4\n",
      "1 + 1\n",
      "[[-1, 4], [6, 2]]\n"
     ]
    }
   ],
   "source": [
    "AaddC = []\n",
    "for i in range(len(A)):\n",
    "    litemp = []\n",
    "    for j in range(len(A[0])):\n",
    "        temp = 0\n",
    "        temp += A[i][j] + C[i][j]\n",
    "        print(f\"{A[i][j]} + {C[i][j]}\")\n",
    "        litemp.append(temp)\n",
    "    AaddC.append(litemp)\n",
    "print(AaddC)"
   ]
  },
  {
   "cell_type": "markdown",
   "metadata": {},
   "source": [
    "Menjumlahkan matriks dengan Numpy"
   ]
  },
  {
   "cell_type": "code",
   "execution_count": 6,
   "metadata": {},
   "outputs": [
    {
     "name": "stdout",
     "output_type": "stream",
     "text": [
      "A + B = \n",
      "[[-1  4]\n",
      " [ 6  2]]\n"
     ]
    }
   ],
   "source": [
    "hasil = A + C\n",
    "print(f\"A + B = \\n{hasil}\")"
   ]
  },
  {
   "cell_type": "markdown",
   "metadata": {},
   "source": [
    "Untuk pengurangan, metodenya sama dengan penjumlahan\n",
    "\n",
    "#### Cara mengalikan dua buah matriks dengan python biasa dan numpy\n",
    "\n",
    "Perkalian dua matriks adalah dengan mengalikan (misal ada matriks $A$ dan $C$) baris matriks $A$ dengan kolom matriks $C$. Jika banyak kolom dari matriks $A$ adalah sama dengan banyaknya baris matriks $B$, maka kedua matriks tersebut dapat dikalikan dalam dengan bentuk perkalian $A,B$.\n",
    "\n",
    "Mengalikan matriks dengan python"
   ]
  },
  {
   "cell_type": "code",
   "execution_count": 7,
   "metadata": {},
   "outputs": [],
   "source": [
    "def perkalian(matrix1,matrix2):\n",
    "    hasil = []\n",
    "    if len(matrix1[0]) != len(matrix2):\n",
    "        print(\"Tidak bisa mengalikan matriks\")\n",
    "        return None\n",
    "    else:\n",
    "        for i in range(len(matrix1)):\n",
    "            tempp = []\n",
    "            for j in range(len(matrix2[0])):\n",
    "                temp = 0\n",
    "                for k in range(len(matrix2)):\n",
    "                    temp += matrix1[i][k] * matrix2[k][j]\n",
    "                tempp.append(temp)\n",
    "            hasil.append(tempp)\n",
    "        return hasil"
   ]
  },
  {
   "cell_type": "code",
   "execution_count": 8,
   "metadata": {},
   "outputs": [
    {
     "name": "stdout",
     "output_type": "stream",
     "text": [
      "[[1 3]\n",
      " [2 1]]\n",
      "[[-2  1]\n",
      " [ 4  1]]\n",
      "[[10, 4], [0, 3]]\n"
     ]
    }
   ],
   "source": [
    "print(A)\n",
    "print(C)\n",
    "\n",
    "print(perkalian(A,C))"
   ]
  },
  {
   "cell_type": "markdown",
   "metadata": {},
   "source": [
    "Cara mengalikan matriks dengan numpy\n",
    "\n",
    "Operasi perkalian matriks dengan numpy adalah dengan memakai simbol @"
   ]
  },
  {
   "cell_type": "code",
   "execution_count": 9,
   "metadata": {},
   "outputs": [
    {
     "name": "stdout",
     "output_type": "stream",
     "text": [
      "[[10  4]\n",
      " [ 0  3]]\n"
     ]
    }
   ],
   "source": [
    "print(A@C)"
   ]
  }
 ],
 "metadata": {
  "kernelspec": {
   "display_name": "Python 3 (ipykernel)",
   "language": "python",
   "name": "python3"
  },
  "language_info": {
   "codemirror_mode": {
    "name": "ipython",
    "version": 3
   },
   "file_extension": ".py",
   "mimetype": "text/x-python",
   "name": "python",
   "nbconvert_exporter": "python",
   "pygments_lexer": "ipython3",
   "version": "3.10.13"
  }
 },
 "nbformat": 4,
 "nbformat_minor": 2
}