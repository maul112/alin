{
 "cells": [
  {
   "cell_type": "markdown",
   "metadata": {},
   "source": [
    "# Test\n",
    "\n",
    "Solusi Persamaan Kuadrat\n",
    "\n",
    "$ax^2+bx+c=0$\n",
    "\n",
    "$x^2+\\frac{b}{a}x+\\frac{c}{a}=0$\n",
    "\n",
    "$(x+\\frac{b}{2a})^2-\\frac{b^2}{4a^2}+\\frac{c}{a}=0$\n",
    "\n",
    "$(x+\\frac{b}{2a})^2=\\frac{b^2}{4a^2}-\\frac{c}{a}$\n",
    "\n",
    "$(x+\\frac{b}{2a})^2=\\frac{b^2-4ac}{4a^2}$\n",
    "\n",
    "$x+\\frac{b}{2a}=±\\frac{\\sqrt{b^2-4ac}}{2a}$\n",
    "\n",
    "$x = -\\frac{b}{2a}±\\frac{\\sqrt{b^2-4ac}}{2a}$\n",
    "\n",
    "$x = \\frac{-b±\\sqrt{b^2-4ac}}{2a}$"
   ]
  }
 ],
 "metadata": {
  "kernelspec": {
   "display_name": "Python 3 (ipykernel)",
   "language": "python",
   "name": "python3"
  }
 },
 "nbformat": 4,
 "nbformat_minor": 2
}
