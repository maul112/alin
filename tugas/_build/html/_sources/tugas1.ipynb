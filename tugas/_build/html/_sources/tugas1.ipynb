{
 "cells": [
  {
   "cell_type": "markdown",
   "metadata": {},
   "source": [
    "There is a lot more that you can do with outputs (such as including interactive outputs)\n",
    "with your book. For more information about this, see [the Jupyter Book documentation](https://jupyterbook.org)"
   ]
  },
  {
   "cell_type": "markdown",
   "metadata": {},
   "source": [
    "# Solusi Persamaan Kuadrat\n",
    "\n",
    "$ax^2+bx+c=0$\n",
    "\n",
    "$x^2+\\frac{b}{a}x+\\frac{c}{a}=0$\n",
    "\n",
    "$(x+\\frac{b}{2a})^2-\\frac{b^2}{4a^2}+\\frac{c}{a}=0$\n",
    "\n",
    "$(x+\\frac{b}{2a})^2=\\frac{b^2}{4a^2}-\\frac{c}{a}$\n",
    "\n",
    "$(x+\\frac{b}{2a})^2=\\frac{b^2-4ac}{4a^2}$\n",
    "\n",
    "$x+\\frac{b}{2a}=±\\frac{\\sqrt{b^2-4ac}}{2a}$\n",
    "\n",
    "$x = -\\frac{b}{2a}±\\frac{\\sqrt{b^2-4ac}}{2a}$\n",
    "\n",
    "$x = \\frac{-b±\\sqrt{b^2-4ac}}{2a}$"
   ]
  }
 ],
 "metadata": {
  "kernelspec": {
   "display_name": "Python 3",
   "language": "python",
   "name": "python3"
  },
  "language_info": {
   "codemirror_mode": {
    "name": "ipython",
    "version": 3
   },
   "file_extension": ".py",
   "mimetype": "text/x-python",
   "name": "python",
   "nbconvert_exporter": "python",
   "pygments_lexer": "ipython3",
   "version": "3.8.0"
  },
  "widgets": {
   "application/vnd.jupyter.widget-state+json": {
    "state": {},
    "version_major": 2,
    "version_minor": 0
   }
  }
 },
 "nbformat": 4,
 "nbformat_minor": 4
}
