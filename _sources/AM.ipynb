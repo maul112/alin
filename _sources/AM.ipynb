{
 "cells": [
  {
   "cell_type": "markdown",
   "metadata": {},
   "source": [
    "## Aljabar Matrix\n",
    "\n",
    "#### Pengertian Matriks\n",
    "\n",
    "- Matrix adalah kumpulan bilangan maupun bilangan kompleks yang tersusun dalam bentuk beberapa baris dan beberapa kolom yang dibungkus dengan kurung () atau kurung [].\n",
    "\n",
    "Contoh bentuk matriks : \n",
    "\n",
    "$\n",
    "A =\\begin{bmatrix}\n",
    "1 & 3\\\\\n",
    "2 & 1\n",
    "\\end{bmatrix}\n",
    "$\n",
    "\n",
    "Matriks mempunyai ukuran yang ditentukan oleh jumlah baris dan jumlah kolom. Dalam notasi umum matriks, nama dari sebuah matriks biasanya berupa sebuah huruf kapital, jumlah baris biasanya dicantumkan terlebih dahulu.\n",
    "\n",
    "Maksudnya :\n",
    "\n",
    "$A_{ij}$\n",
    "\n",
    "Matrik diatas mempunyai sebanyak i baris dan sebanyak j kolom.\n",
    "\n",
    "Elemen matriks dinyatakan dengan huruf kecil dengan subskrip baris dan kolom untuk menunjukkan posisi sebuah elemen dalam matriks.\n",
    "Contoh $b_{12}$ mengacu pada baris pertama dan kolom kedua matriks B.\n",
    "Secara umum, kita mungkin menggunakan variabel di subskrip, seperti $a_{ij}$ artinya elemen dari matriks $A$ pada baris $i$ dan kolom $j$.\n",
    "\n",
    "#### Jenis-jenis Matriks\n",
    "\n",
    "1. Matriks Baris\n",
    "\n",
    "Matriks baris adalah matriks yang terdiri dari hanya satu baris saja.\n",
    "\n",
    "- Contoh :\n",
    "\n",
    "$\n",
    "A = \\begin{bmatrix}\n",
    "1 & 2 & 3 & 4\n",
    "\\end{bmatrix}\n",
    "$\n",
    "\n",
    "2. Matriks Kolom\n",
    "\n",
    "Matriks kolom adalah matriks yang terdiri dari hanya satu kolom saja.\n",
    "\n",
    "- Contoh :\n",
    "\n",
    "$\n",
    "X = \\begin{bmatrix}\n",
    "1\\\\\n",
    "2\\\\\n",
    "3\n",
    "\\end{bmatrix}\n",
    "$\n",
    "\n",
    "Biasanya matriks ini disebut juga dengan vektor.\n",
    "\n",
    "3. Matriks nol\n",
    "\n",
    "Matriks nol adalah matriks yang semua elemen didalam matriks tersebut semuanya bernilai 0.\n",
    "\n",
    "- Contoh :\n",
    "\n",
    "$\n",
    "M = \\begin{bmatrix}\n",
    "0 & 0\\\\\n",
    "0 & 0\n",
    "\\end{bmatrix}\n",
    "$\n",
    "\n",
    "4. Matriks Persegi\n",
    "\n",
    "Matriks persegi adalah matriks yang dimana jumlah barisnya sama dengan jumlah kolomnya\n",
    "\n",
    "- Contoh : \n",
    "\n",
    "$\n",
    "B = \\begin{bmatrix}\n",
    "1 & 2\\\\\n",
    "3 & 4\n",
    "\\end{bmatrix}\n",
    "$\n",
    "\n",
    "$\n",
    "C = \\begin{bmatrix}\n",
    "1 & 2 & 3\\\\\n",
    "3 & 4 & 5\\\\\n",
    "5 & 6 & 7\n",
    "\\end{bmatrix}\n",
    "$\n",
    "\n",
    "5. Matriks Segitiga\n",
    "Matriks segitiga ada dua, yaitu segitiga atas dan segitiga bawah. Matriks segitiga atas adalah matriks dimana elemen-elemen yang berada dibawah diagonal utama bernilai nol dan sebaliknya.\n",
    "\n",
    "- Contoh segitiga atas :\n",
    "\n",
    "$\n",
    "E = \\begin{bmatrix}\n",
    "9 & 8 & 7\\\\\n",
    "0 & 5 & 4\\\\\n",
    "0 & 0 & 1\n",
    "\\end{bmatrix}\n",
    "$\n",
    "\n",
    "- Contoh segitiga bawah :\n",
    "\n",
    "$\n",
    "E = \\begin{bmatrix}\n",
    "9 & 0 & 0\\\\\n",
    "6 & 5 & 0\\\\\n",
    "3 & 2 & 1\n",
    "\\end{bmatrix}\n",
    "$\n",
    "\n",
    "6. Matriks diagonal\n",
    "\n",
    "Matriks diagonal adalah matriks dengan elemen selain pada diagonalnya bernilai 0. Diagonal dalam matriks diagonal ada dua yaitu diagonal utama dan sekunder. Jika elemen yang ada pada diagonalnya bernilai sama, maka matriks itu disebut matriks skalar\n",
    "\n",
    "- Contoh diagonal utama :\n",
    "\n",
    "$\n",
    "P = \\begin{bmatrix}\n",
    "1 & 0 & 0\\\\\n",
    "0 & 2 & 0\\\\\n",
    "0 & 0 & 3\n",
    "\\end{bmatrix}\n",
    "$\n",
    "\n",
    "- Contoh diagonal sekunder :\n",
    "\n",
    "$\n",
    "Q = \\begin{bmatrix}\n",
    "0 & 0 & 1\\\\\n",
    "0 & 2 & 0\\\\\n",
    "3 & 0 & 0\n",
    "\\end{bmatrix}\n",
    "$\n",
    "\n",
    "- Contoh matriks skalar :\n",
    "\n",
    "$\n",
    "R = \\begin{bmatrix}\n",
    "2 & 0 & 0\\\\\n",
    "0 & 2 & 0\\\\\n",
    "0 & 0 & 2\n",
    "\\end{bmatrix}\n",
    "$\n",
    "\n",
    "7. Matriks datar dan tegak\n",
    "\n",
    "Matriks datar adalah matriks dengan jumlah kolom lebih besar dari jumlah barisnya. Sementara matriks tegak adalah matriks dengan jumlah baris lebih besar dari jumlah kolomnya.\n",
    "\n",
    "- Contoh matriks datar :\n",
    "\n",
    "$\n",
    "Y = \\begin{bmatrix}\n",
    "1 & 2 & 3\\\\\n",
    "4 & 5 & 6\n",
    "\\end{bmatrix}\n",
    "$\n",
    "\n",
    "- Contoh matriks tegak :\n",
    "\n",
    "$\n",
    "Z = \\begin{bmatrix}\n",
    "1 & 2\\\\\n",
    "3 & 4\\\\\n",
    "5 & 6\n",
    "\\end{bmatrix}\n",
    "$\n",
    "\n",
    "8. Matriks identitas\n",
    "\n",
    "Matriks identitas merupakan matriks dengan elemen hanya bernilai 0 atau 1.\n",
    "\n",
    "- Contoh :\n",
    "\n",
    "$\n",
    "O = \\begin{bmatrix}\n",
    "1 & 0\\\\\n",
    "0 & 1\n",
    "\\end{bmatrix}\n",
    "$\n",
    "\n",
    "#### Implementasi dengan numpy\n",
    "\n",
    "Cara membuat matriks dengan numpy\n"
   ]
  },
  {
   "cell_type": "code",
   "execution_count": 2,
   "metadata": {},
   "outputs": [
    {
     "name": "stdout",
     "output_type": "stream",
     "text": [
      "A = \n",
      "[[1 3]\n",
      " [2 1]]\n",
      "B = \n",
      "[[ 3  0  4]\n",
      " [-1 -2  1]]\n",
      "C = \n",
      "[[-2  1]\n",
      " [ 4  1]]\n",
      "D = \n",
      "[[2]\n",
      " [6]]\n"
     ]
    }
   ],
   "source": [
    "import numpy as np\n",
    "A = np.array([[1,3],[2,1]])\n",
    "B = np.array([[3,0,4],[-1,-2,1]])\n",
    "C = np.array([[-2,1],[4,1]])\n",
    "D = np.array([[2],[6]])\n",
    "print(f\"A = \\n{A}\")\n",
    "print(f\"B = \\n{B}\")\n",
    "print(f\"C = \\n{C}\")\n",
    "print(f\"D = \\n{D}\")"
   ]
  },
  {
   "cell_type": "markdown",
   "metadata": {},
   "source": [
    "#### Cara membuat random matriks dengan numpy"
   ]
  },
  {
   "cell_type": "code",
   "execution_count": 3,
   "metadata": {},
   "outputs": [
    {
     "name": "stdout",
     "output_type": "stream",
     "text": [
      "[[-2  1]\n",
      " [ 4  1]]\n"
     ]
    }
   ],
   "source": [
    "E = np.random.randint(10,size=(3,3))\n",
    "print(C)"
   ]
  },
  {
   "cell_type": "markdown",
   "metadata": {},
   "source": [
    "- Setiap di print, maka matriks E akan berubah-ubah\n",
    "\n",
    "Perlu diingat sebelum menjumlahkan, mengurangkan, atau mmengalikan kedua buah matriks, ukuran dari kedua matriks tersebut harus sama.\n",
    "\n",
    "Notasi ukuran matriks sebagai berikut :\n",
    "\n",
    "$A_{ij}$ artinya matriks $A$ mempunyai i baris dan j kolom\n",
    "\n",
    "#### Cara cek ukuran matriks menggunakan python dan numpy\n",
    "\n",
    "\n",
    "- Python"
   ]
  },
  {
   "cell_type": "code",
   "execution_count": 4,
   "metadata": {},
   "outputs": [
    {
     "name": "stdout",
     "output_type": "stream",
     "text": [
      "Ukuran matriks A adalah = (2, 2)\n"
     ]
    }
   ],
   "source": [
    "ukuran_matriks = len(A),len(A[0])\n",
    "print(f\"Ukuran matriks A adalah = {ukuran_matriks}\")"
   ]
  },
  {
   "cell_type": "markdown",
   "metadata": {},
   "source": [
    "- Numpy"
   ]
  },
  {
   "cell_type": "code",
   "execution_count": 5,
   "metadata": {},
   "outputs": [
    {
     "name": "stdout",
     "output_type": "stream",
     "text": [
      "Ukuran matriks A adalah = (2, 2)\n"
     ]
    }
   ],
   "source": [
    "print(f\"Ukuran matriks A adalah = {A.shape}\")"
   ]
  },
  {
   "cell_type": "markdown",
   "metadata": {},
   "source": [
    "Berarti matriks A diatas mempunyai 2 baris dan 2 kolom.\n",
    "\n",
    "Setelah kita tau beberapa implementasi numpy pada matriks, ada satu jenis matriks lagi yaitu matriks transpose.\n",
    "\n",
    "##### Matriks Transpose\n",
    "\n",
    "Matriks transpose adalah transformasi atau perubahan pada elemen-elemen matriks yang awalnya merupakan baris menjadi kolom dan sebaliknya. Matriks dikatakan matriks simetris jika elemen-elemen dari sebuah matriks sama dengan hasil transpose-nya. Sebuah matriks disebut matriks simetri miring pada saat nilai elemennya selain diagonal utama nilainya berlawanan. Notasi matriks transpose adalah $A^T$.\n",
    "\n",
    "Cara transpose sebuah matriks menggunakan python"
   ]
  },
  {
   "cell_type": "code",
   "execution_count": 13,
   "metadata": {},
   "outputs": [
    {
     "name": "stdout",
     "output_type": "stream",
     "text": [
      "B = \n",
      "[[ 3  0  4]\n",
      " [-1 -2  1]]\n",
      "Bt = \n",
      "[[ 3 -1]\n",
      " [ 0 -2]\n",
      " [ 4  1]]\n"
     ]
    }
   ],
   "source": [
    "print(f\"B = \\n{B}\")\n",
    "\n",
    "def transpose(a):\n",
    "    hasil = []\n",
    "    for i in range(len(a[0])):\n",
    "        temp = []\n",
    "        for j in range(len(a)):\n",
    "            temp.append(a[j][i])\n",
    "        hasil.append(temp)\n",
    "    return hasil\n",
    "\n",
    "hasil = transpose(B)\n",
    "hasil = np.array(hasil)\n",
    "print(f\"Bt = \\n{hasil}\")"
   ]
  },
  {
   "cell_type": "markdown",
   "metadata": {},
   "source": [
    "Cara transpose matriks menggunakan numpy"
   ]
  },
  {
   "cell_type": "code",
   "execution_count": 19,
   "metadata": {},
   "outputs": [
    {
     "name": "stdout",
     "output_type": "stream",
     "text": [
      "B = \n",
      "[[ 3  0  4]\n",
      " [-1 -2  1]]\n",
      "Hasil = \n",
      "[[ 3 -1]\n",
      " [ 0 -2]\n",
      " [ 4  1]]\n"
     ]
    }
   ],
   "source": [
    "print(f\"B = \\n{B}\")\n",
    "trans = np.array(B.transpose())\n",
    "print(f\"Hasil = \\n{trans}\")"
   ]
  },
  {
   "cell_type": "markdown",
   "metadata": {},
   "source": [
    "#### Operasi\n",
    "\n",
    "##### Cara menjumlahkan dan mengurangkan dua buah matriks dengan python dan numpy\n",
    "\n",
    "Penjumlahan dua matriks adalah dengan menjumlahkan tiap elemen dari kedua matriks tersebut sesuai dengan posisinya.\n",
    "\n",
    "Misal $A_{12}$ dijumlahkan dengan $C_{12}$, artinya elemen matriks $A$ pada baris 1 kolom 2 dijumlahkan dengan matriks $C$ dengan posisi elemen yang sama yaitu baris 1 kolom 2 dan seterusnya. \n",
    "\n",
    "Pengoperasian penjumlahan dan pengurangan bisa di ilustrasikan dengan notasi sebagai berikut : \n",
    "\n",
    "$(A + C)_{ij} = a_{ij} + c_{ij}$\n",
    "\n",
    "Misal $A + C $ : \n",
    "\n",
    "$$\n",
    "A = \\begin{bmatrix}\n",
    "1 & 3\\\\\n",
    "2 & 1\n",
    "\\end{bmatrix}\n",
    "$$\n",
    "$$\n",
    "C = \\begin{bmatrix}\n",
    "-2 & 1\\\\\n",
    "4 & 1\n",
    "\\end{bmatrix}\n",
    "$$\n",
    "$$\n",
    "A + C = \\begin{bmatrix}\n",
    "1+(-2) & 3+1\\\\\n",
    "2+4 & 1+1\n",
    "\\end{bmatrix}\n",
    "$$\n",
    "\n",
    "Menjumlahkan matriks dengan python"
   ]
  },
  {
   "cell_type": "code",
   "execution_count": 6,
   "metadata": {},
   "outputs": [
    {
     "name": "stdout",
     "output_type": "stream",
     "text": [
      "1 + -2\n",
      "3 + 1\n",
      "2 + 4\n",
      "1 + 1\n",
      "[[-1, 4], [6, 2]]\n"
     ]
    }
   ],
   "source": [
    "AaddC = []\n",
    "for i in range(len(A)):\n",
    "    litemp = []\n",
    "    for j in range(len(A[0])):\n",
    "        temp = 0\n",
    "        temp += A[i][j] + C[i][j]\n",
    "        print(f\"{A[i][j]} + {C[i][j]}\")\n",
    "        litemp.append(temp)\n",
    "    AaddC.append(litemp)\n",
    "print(AaddC)"
   ]
  },
  {
   "cell_type": "markdown",
   "metadata": {},
   "source": [
    "Menjumlahkan matriks dengan Numpy"
   ]
  },
  {
   "cell_type": "code",
   "execution_count": 7,
   "metadata": {},
   "outputs": [
    {
     "name": "stdout",
     "output_type": "stream",
     "text": [
      "A + B = \n",
      "[[-1  4]\n",
      " [ 6  2]]\n"
     ]
    }
   ],
   "source": [
    "hasil = A + C\n",
    "print(f\"A + B = \\n{hasil}\")"
   ]
  },
  {
   "cell_type": "markdown",
   "metadata": {},
   "source": [
    "Untuk pengurangan, metodenya sama dengan penjumlahan\n",
    "\n",
    "##### Cara mengalikan dua buah matriks dengan python biasa dan numpy\n",
    "\n",
    "Perkalian dua matriks adalah dengan mengalikan (misal ada matriks $A$ dan $C$) baris matriks $A$ dengan kolom matriks $C$. Jika banyak kolom dari matriks $A$ adalah sama dengan banyaknya baris matriks $B$, maka kedua matriks tersebut dapat dikalikan dalam dengan bentuk perkalian $A,B$.\n",
    "\n",
    "Mengalikan matriks dengan python"
   ]
  },
  {
   "cell_type": "code",
   "execution_count": 8,
   "metadata": {},
   "outputs": [],
   "source": [
    "def perkalian(matrix1,matrix2):\n",
    "    hasil = []\n",
    "    if len(matrix1[0]) != len(matrix2):\n",
    "        print(\"Tidak bisa mengalikan matriks\")\n",
    "        return None\n",
    "    else:\n",
    "        for i in range(len(matrix1)):\n",
    "            tempp = []\n",
    "            for j in range(len(matrix2[0])):\n",
    "                temp = 0\n",
    "                for k in range(len(matrix2)):\n",
    "                    temp += matrix1[i][k] * matrix2[k][j]\n",
    "                tempp.append(temp)\n",
    "            hasil.append(tempp)\n",
    "        return hasil"
   ]
  },
  {
   "cell_type": "code",
   "execution_count": 14,
   "metadata": {},
   "outputs": [
    {
     "name": "stdout",
     "output_type": "stream",
     "text": [
      "A = \n",
      "[[1 3]\n",
      " [2 1]]\n",
      "C = \n",
      "[[-2  1]\n",
      " [ 4  1]]\n",
      "hasil = \n",
      "[[10  4]\n",
      " [ 0  3]]\n"
     ]
    }
   ],
   "source": [
    "print(f\"A = \\n{A}\")\n",
    "print(f\"C = \\n{C}\")\n",
    "hasil = np.array(perkalian(A,C))\n",
    "print(f\"hasil = \\n{hasil}\")"
   ]
  },
  {
   "cell_type": "markdown",
   "metadata": {},
   "source": [
    "Cara mengalikan matriks dengan numpy\n",
    "\n",
    "Operasi perkalian matriks dengan numpy adalah dengan memakai simbol @"
   ]
  },
  {
   "cell_type": "code",
   "execution_count": 9,
   "metadata": {},
   "outputs": [
    {
     "name": "stdout",
     "output_type": "stream",
     "text": [
      "[[10  4]\n",
      " [ 0  3]]\n"
     ]
    }
   ],
   "source": [
    "print(A@C)"
   ]
  },
  {
   "cell_type": "markdown",
   "metadata": {},
   "source": [
    "##### Cara mencari determinan matriks menggunakan python"
   ]
  },
  {
   "cell_type": "code",
   "execution_count": 1,
   "metadata": {},
   "outputs": [
    {
     "name": "stdout",
     "output_type": "stream",
     "text": [
      "-17\n"
     ]
    }
   ],
   "source": [
    "a = [\n",
    "    [2,1,3],\n",
    "    [1,4,2],\n",
    "    [3,1,2],\n",
    "]\n",
    "def det(a):\n",
    "    bantu = a\n",
    "    for i in range(len(a)):\n",
    "        for j in range(len(a[0])):\n",
    "            bantu[i].append(a[i][j])\n",
    "    kanan = 0\n",
    "    kiri = 0\n",
    "    for i in range(len(a)):\n",
    "        kanan1 = 1\n",
    "        kiri1 = 1\n",
    "        for j in range(len(a)):\n",
    "            # print(bantu[j][len(a)-1-j+i])\n",
    "            # print(bantu[j][j+i])\n",
    "            kanan1 *= bantu[j][j+i]\n",
    "            kiri1 *= bantu[j][len(a)-1-j+i]\n",
    "        kanan += kanan1\n",
    "        # print(kiri1)\n",
    "        kiri += kiri1\n",
    "    return kanan - kiri\n",
    "print(det(a))"
   ]
  },
  {
   "cell_type": "markdown",
   "metadata": {},
   "source": [
    "#### Referensi\n",
    "\n",
    "- https://fti.ars.ac.id/blog/content/matriks--jenis-jenis-matriks#:~:text=Matriks%20adalah%20suatu%20susunan%20bilangan,sehingga%20membentuk%20jajaran%20persegi%20panjang.&text=Suatu%20matriks%20diberi%20nama%20dengan,anggotanya%20dinyatakan%20dengan%20huruf%20kecil.\n",
    "- https://www.ruangguru.com/blog/mengenal-matriks-dalam-matematika-pengertian-jenis-dan-transpose\n",
    "- https://tetrikmatriks.wordpress.com/2017/10/21/pengertian-dan-jenis-matriks/\n",
    "- https://id.wikipedia.org/wiki/Matriks_diagonal\n",
    "- https://www.digitalocean.com/community/tutorials/numpy-matrix-transpose-array\n",
    "- https://www.ruangguru.com/blog/cara-mencari-determinan-dan-invers-matriks\n",
    "- https://byjus.com/maths/inverse-matrix/\n",
    "- https://kumparan.com/berita-update/cara-mencari-adjoin-matriks-3x3-dan-contohnya-21KH3nq8dQW\n",
    "- https://akupintar.id/info-pintar/-/blogs/matriks-pengertian-operasi-determinan-invers-dan-contoh-soal#:~:text=Determinan%20suatu%20matriks%20didefinisikan%20sebagai,A)%20atau%20%7CA%7C"
   ]
  }
 ],
 "metadata": {
  "kernelspec": {
   "display_name": "Python 3 (ipykernel)",
   "language": "python",
   "name": "python3"
  },
  "language_info": {
   "codemirror_mode": {
    "name": "ipython",
    "version": 3
   },
   "file_extension": ".py",
   "mimetype": "text/x-python",
   "name": "python",
   "nbconvert_exporter": "python",
   "pygments_lexer": "ipython3",
   "version": "3.10.13"
  }
 },
 "nbformat": 4,
 "nbformat_minor": 2
}
